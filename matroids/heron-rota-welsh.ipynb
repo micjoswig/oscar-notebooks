{
 "cells": [
  {
   "cell_type": "code",
   "execution_count": 1,
   "id": "a1272183-9897-4110-9552-ca2ab6e96086",
   "metadata": {},
   "outputs": [
    {
     "name": "stdout",
     "output_type": "stream",
     "text": [
      "  ___   ____   ____    _    ____\n",
      " / _ \\ / ___| / ___|  / \\  |  _ \\   |  Combining ANTIC, GAP, Polymake, Singular\n",
      "| | | |\\___ \\| |     / _ \\ | |_) |  |  Type \"?Oscar\" for more information\n",
      "| |_| | ___) | |___ / ___ \\|  _ <   |  Manual: https://docs.oscar-system.org\n",
      " \\___/ |____/ \\____/_/   \\_\\_| \\_\\  |  Version 1.1.1\n"
     ]
    }
   ],
   "source": [
    "using Oscar"
   ]
  },
  {
   "attachments": {},
   "cell_type": "markdown",
   "id": "4953a749-4434-4970-ab2e-cadf9db83011",
   "metadata": {},
   "source": [
    "# Matroid Basics\n",
    "\n",
    "The following matroid is Example 10.6 in [Essentials of tropical combinatorics](https://bookstore.ams.org/gsm-219/)."
   ]
  },
  {
   "cell_type": "code",
   "execution_count": 2,
   "id": "f2b621f8-5bde-4abc-8865-bafac5a571a3",
   "metadata": {},
   "outputs": [
    {
     "data": {
      "text/plain": [
       "Matroid of rank 3 on 5 elements"
      ]
     },
     "execution_count": 2,
     "metadata": {},
     "output_type": "execute_result"
    }
   ],
   "source": [
    "M = matroid_from_bases([[1,2,3], [1,2,4], [1,2,5], [1,3,4], [1,4,5], [2,3,5], [2,4,5], [3,4,5]], 5)"
   ]
  },
  {
   "cell_type": "markdown",
   "id": "06eb16d8-c5df-4caf-bef4-62e69cd2fb17",
   "metadata": {},
   "source": [
    "A matroid is uniquely determined by its circuits ..."
   ]
  },
  {
   "cell_type": "code",
   "execution_count": 3,
   "id": "784ac0d4-9d57-42ad-be77-dc06ca4a6204",
   "metadata": {},
   "outputs": [
    {
     "data": {
      "text/plain": [
       "3-element Vector{Vector{Int64}}:\n",
       " [1, 3, 5]\n",
       " [2, 3, 4]\n",
       " [1, 2, 4, 5]"
      ]
     },
     "execution_count": 3,
     "metadata": {},
     "output_type": "execute_result"
    }
   ],
   "source": [
    "circuits(M)"
   ]
  },
  {
   "cell_type": "markdown",
   "id": "ccfafbdc-db88-4f4b-b5f7-027c352e7111",
   "metadata": {},
   "source": [
    "... or its flats."
   ]
  },
  {
   "cell_type": "code",
   "execution_count": 4,
   "id": "e11c7854-05c8-4838-9475-b08c31600501",
   "metadata": {},
   "outputs": [
    {
     "data": {
      "text/plain": [
       "13-element Vector{Vector{Int64}}:\n",
       " []\n",
       " [1]\n",
       " [2]\n",
       " [3]\n",
       " [4]\n",
       " [5]\n",
       " [1, 2]\n",
       " [1, 4]\n",
       " [1, 3, 5]\n",
       " [2, 3, 4]\n",
       " [2, 5]\n",
       " [4, 5]\n",
       " [1, 2, 3, 4, 5]"
      ]
     },
     "execution_count": 4,
     "metadata": {},
     "output_type": "execute_result"
    }
   ],
   "source": [
    "flats(M)"
   ]
  },
  {
   "cell_type": "markdown",
   "id": "869a5c9e-5be0-414b-9396-8ef9ffc110a6",
   "metadata": {},
   "source": [
    "A proper flat is <i>cyclic</i> if it is the disjoint union of circuits.  Again, the cyclic flats are enough to define the matroid uniquely.  Often they form a particularly compact encoding."
   ]
  },
  {
   "cell_type": "code",
   "execution_count": 5,
   "id": "ed584256-6f58-4a15-80c2-02e73367a85e",
   "metadata": {},
   "outputs": [
    {
     "data": {
      "text/plain": [
       "4-element Vector{Vector{Int64}}:\n",
       " []\n",
       " [1, 3, 5]\n",
       " [2, 3, 4]\n",
       " [1, 2, 3, 4, 5]"
      ]
     },
     "execution_count": 5,
     "metadata": {},
     "output_type": "execute_result"
    }
   ],
   "source": [
    "cyclic_flats(M)"
   ]
  },
  {
   "cell_type": "markdown",
   "id": "755dd447-266d-4725-9ec3-d1ffb8f6304f",
   "metadata": {},
   "source": [
    "The independent sets form an abstract simplicial complex."
   ]
  },
  {
   "cell_type": "code",
   "execution_count": 6,
   "id": "093f553d-2b3a-4469-8e4b-0f130442e370",
   "metadata": {},
   "outputs": [
    {
     "data": {
      "text/plain": [
       "Abstract simplicial complex of dimension 2 on 5 vertices"
      ]
     },
     "execution_count": 6,
     "metadata": {},
     "output_type": "execute_result"
    }
   ],
   "source": [
    "K = simplicial_complex(independent_sets(M))"
   ]
  },
  {
   "cell_type": "code",
   "execution_count": 7,
   "id": "2d270d4a-5a64-428a-9c81-8ac7a4b616e4",
   "metadata": {},
   "outputs": [
    {
     "data": {
      "text/plain": [
       "3-element Vector{Int64}:\n",
       "  5\n",
       " 10\n",
       "  8"
      ]
     },
     "execution_count": 7,
     "metadata": {},
     "output_type": "execute_result"
    }
   ],
   "source": [
    "f_vector(K)"
   ]
  },
  {
   "cell_type": "code",
   "execution_count": 8,
   "id": "c9afc0cc-e96e-4d7e-90f5-b018b2775618",
   "metadata": {},
   "outputs": [
    {
     "data": {
      "text/plain": [
       "3-element Vector{FinGenAbGroup}:\n",
       " Z\n",
       " Z/1\n",
       " Z^2"
      ]
     },
     "execution_count": 8,
     "metadata": {},
     "output_type": "execute_result"
    }
   ],
   "source": [
    "[ homology(K, i) for i in 0:2 ]"
   ]
  },
  {
   "cell_type": "code",
   "execution_count": 9,
   "id": "2a89f2a9-be2a-4a11-8853-115b6fba9122",
   "metadata": {},
   "outputs": [
    {
     "data": {
      "text/plain": [
       "8-element SubObjectIterator{PointVector{QQFieldElem}}:\n",
       " [1, 1, 1, 0, 0]\n",
       " [1, 1, 0, 1, 0]\n",
       " [1, 1, 0, 0, 1]\n",
       " [1, 0, 1, 1, 0]\n",
       " [1, 0, 0, 1, 1]\n",
       " [0, 1, 1, 0, 1]\n",
       " [0, 1, 0, 1, 1]\n",
       " [0, 0, 1, 1, 1]"
      ]
     },
     "execution_count": 9,
     "metadata": {},
     "output_type": "execute_result"
    }
   ],
   "source": [
    "P = matroid_base_polytope(M);\n",
    "vertices(P)"
   ]
  },
  {
   "cell_type": "code",
   "execution_count": 10,
   "id": "82317187-2c3a-4ed6-b93c-7ba6b22d49e2",
   "metadata": {},
   "outputs": [
    {
     "data": {
      "text/plain": [
       "true"
      ]
     },
     "execution_count": 10,
     "metadata": {},
     "output_type": "execute_result"
    }
   ],
   "source": [
    "dim(P) == length(matroid_groundset(M)) - length(connected_components(M))"
   ]
  },
  {
   "cell_type": "markdown",
   "id": "256fb111-7e00-4c29-ac4d-69493ce07980",
   "metadata": {},
   "source": [
    "# Chow Rings\n",
    "\n",
    "The discussion below follows the chapter \"Matroids\" by Corey, Kühne & Schröter in [The Computer Algebra System OSCAR, Springer (2024)](https://link.springer.com/book/9783031621260)."
   ]
  },
  {
   "cell_type": "markdown",
   "id": "1405c184-8b67-45be-b22d-92b5c3f8d278",
   "metadata": {},
   "source": [
    "## Characteristic polynomials"
   ]
  },
  {
   "cell_type": "code",
   "execution_count": 11,
   "id": "0dceb971-081c-4483-b645-a0180f7fefb2",
   "metadata": {},
   "outputs": [
    {
     "data": {
      "text/plain": [
       "Matroid of rank 3 on 6 elements"
      ]
     },
     "execution_count": 11,
     "metadata": {},
     "output_type": "execute_result"
    }
   ],
   "source": [
    "M = cycle_matroid(complete_graph(4))"
   ]
  },
  {
   "cell_type": "code",
   "execution_count": 12,
   "id": "c78f508a-ad62-4df0-a4ce-baaa2bea7526",
   "metadata": {},
   "outputs": [
    {
     "data": {
      "text/plain": [
       "x^3 + 3*x^2 + 4*x*y + 2*x + y^3 + 3*y^2 + 2*y"
      ]
     },
     "execution_count": 12,
     "metadata": {},
     "output_type": "execute_result"
    }
   ],
   "source": [
    "tutte_polynomial(M)"
   ]
  },
  {
   "cell_type": "code",
   "execution_count": 13,
   "id": "63fb67a8-e198-47e3-9605-a69271a016c2",
   "metadata": {},
   "outputs": [
    {
     "data": {
      "text/plain": [
       "q^3 - 6*q^2 + 11*q - 6"
      ]
     },
     "execution_count": 13,
     "metadata": {},
     "output_type": "execute_result"
    }
   ],
   "source": [
    "char_poly = characteristic_polynomial(M)"
   ]
  },
  {
   "cell_type": "code",
   "execution_count": 14,
   "id": "91b5a9ab-999b-4bb8-b43d-b60c145c51ef",
   "metadata": {},
   "outputs": [
    {
     "data": {
      "text/plain": [
       "1 * (q - 2) * (q - 1) * (q - 3)"
      ]
     },
     "execution_count": 14,
     "metadata": {},
     "output_type": "execute_result"
    }
   ],
   "source": [
    "factor(char_poly)"
   ]
  },
  {
   "cell_type": "markdown",
   "id": "324bead6-93a7-49bc-9aed-ff9f54f6ae02",
   "metadata": {},
   "source": [
    "The absolute values of the coefficients ..."
   ]
  },
  {
   "cell_type": "code",
   "execution_count": 15,
   "id": "2d4d53c2-4d7f-4e55-b37a-1bd82fbabc1b",
   "metadata": {},
   "outputs": [
    {
     "data": {
      "text/plain": [
       "4-element Vector{ZZRingElem}:\n",
       " 6\n",
       " 11\n",
       " 6\n",
       " 1"
      ]
     },
     "execution_count": 15,
     "metadata": {},
     "output_type": "execute_result"
    }
   ],
   "source": [
    "w = [ abs(coeff(char_poly, i-1)) for i in 1:length(char_poly) ]"
   ]
  },
  {
   "cell_type": "markdown",
   "id": "3ab471b8-b81d-4092-9df5-2222dbcf60d4",
   "metadata": {},
   "source": [
    "... satisfy log-concavity."
   ]
  },
  {
   "cell_type": "code",
   "execution_count": 16,
   "id": "3ab28362-c7cb-4333-8a29-ce2f4ade0bf9",
   "metadata": {},
   "outputs": [
    {
     "data": {
      "text/plain": [
       "true"
      ]
     },
     "execution_count": 16,
     "metadata": {},
     "output_type": "execute_result"
    }
   ],
   "source": [
    "w[1]*w[3] <= w[2]^2 && w[2]*w[4] <= w[3]^2"
   ]
  },
  {
   "cell_type": "code",
   "execution_count": 17,
   "id": "f5c1e5f9-2b1e-4191-8eb7-437165e91162",
   "metadata": {},
   "outputs": [
    {
     "data": {
      "text/plain": [
       "15-element Vector{Vector{Edge}}:\n",
       " []\n",
       " [Edge(2, 1)]\n",
       " [Edge(3, 1)]\n",
       " [Edge(3, 2)]\n",
       " [Edge(4, 1)]\n",
       " [Edge(4, 2)]\n",
       " [Edge(4, 3)]\n",
       " [Edge(2, 1), Edge(3, 1), Edge(3, 2)]\n",
       " [Edge(2, 1), Edge(4, 1), Edge(4, 2)]\n",
       " [Edge(2, 1), Edge(4, 3)]\n",
       " [Edge(3, 1), Edge(4, 2)]\n",
       " [Edge(3, 1), Edge(4, 1), Edge(4, 3)]\n",
       " [Edge(3, 2), Edge(4, 1)]\n",
       " [Edge(3, 2), Edge(4, 2), Edge(4, 3)]\n",
       " [Edge(2, 1), Edge(3, 1), Edge(3, 2), Edge(4, 1), Edge(4, 2), Edge(4, 3)]"
      ]
     },
     "execution_count": 17,
     "metadata": {},
     "output_type": "execute_result"
    }
   ],
   "source": [
    "flats(M)"
   ]
  },
  {
   "cell_type": "markdown",
   "id": "9354eccb-b25a-4922-bb52-ca1f7e5a3260",
   "metadata": {},
   "source": [
    "## Definition of the Chow ring"
   ]
  },
  {
   "cell_type": "code",
   "execution_count": 18,
   "id": "b218a5f4-2832-4d98-bc40-e628a856a24c",
   "metadata": {},
   "outputs": [
    {
     "data": {
      "text/plain": [
       "Quotient\n",
       "  of multivariate polynomial ring in 13 variables x_{Edge(2, 1)}, x_{Edge(3, 1)}, x_{Edge(3, 2)}, x_{Edge(4, 1)}, ..., x_{Edge(3, 2),Edge(4, 2),Edge(4, 3)}\n",
       "    over rational field\n",
       "  by ideal with 65 generators"
      ]
     },
     "execution_count": 18,
     "metadata": {},
     "output_type": "execute_result"
    }
   ],
   "source": [
    "A = chow_ring(M)"
   ]
  },
  {
   "cell_type": "code",
   "execution_count": 19,
   "id": "10519792-3eb8-4764-8d95-0a36a660f9d3",
   "metadata": {},
   "outputs": [],
   "source": [
    "GR, _ = graded_polynomial_ring(QQ, symbols(base_ring(A)));\n",
    "AA = chow_ring(M, ring=GR);"
   ]
  },
  {
   "cell_type": "code",
   "execution_count": 20,
   "id": "02449d4b-8d99-4430-bd01-8b970271a995",
   "metadata": {},
   "outputs": [
    {
     "data": {
      "text/plain": [
       "#3982 (generic function with 1 method)"
      ]
     },
     "execution_count": 20,
     "metadata": {},
     "output_type": "execute_result"
    }
   ],
   "source": [
    "vol_map = volume_map(M, AA)"
   ]
  },
  {
   "cell_type": "code",
   "execution_count": 21,
   "id": "467e55ca-ff2b-4eed-b98f-10a85b58af48",
   "metadata": {},
   "outputs": [],
   "source": [
    "e = matroid_groundset(M)[1];"
   ]
  },
  {
   "cell_type": "code",
   "execution_count": 22,
   "id": "0dddc559-5887-4268-a066-d1da7106d036",
   "metadata": {},
   "outputs": [],
   "source": [
    "proper_flats = flats(M)[2:length(flats(M))-1];"
   ]
  },
  {
   "cell_type": "code",
   "execution_count": 23,
   "id": "4b1476a2-1d40-4e45-bded-359b80e9380e",
   "metadata": {},
   "outputs": [
    {
     "data": {
      "text/plain": [
       "x_{Edge(2, 1)} + x_{Edge(2, 1),Edge(3, 1),Edge(3, 2)} + x_{Edge(2, 1),Edge(4, 1),Edge(4, 2)} + x_{Edge(2, 1),Edge(4, 3)}"
      ]
     },
     "execution_count": 23,
     "metadata": {},
     "output_type": "execute_result"
    }
   ],
   "source": [
    "a = sum([AA[i] for i in 1:length(proper_flats) if e in proper_flats[i]])"
   ]
  },
  {
   "cell_type": "code",
   "execution_count": 24,
   "id": "8b7518f3-3370-4afb-a8b2-356b8d1a74b7",
   "metadata": {},
   "outputs": [
    {
     "data": {
      "text/plain": [
       "x_{Edge(3, 1)} + x_{Edge(3, 2)} + x_{Edge(4, 1)} + x_{Edge(4, 2)} + x_{Edge(4, 3)} + x_{Edge(3, 1),Edge(4, 2)} + x_{Edge(3, 1),Edge(4, 1),Edge(4, 3)} + x_{Edge(3, 2),Edge(4, 1)} + x_{Edge(3, 2),Edge(4, 2),Edge(4, 3)}"
      ]
     },
     "execution_count": 24,
     "metadata": {},
     "output_type": "execute_result"
    }
   ],
   "source": [
    "b = sum([AA[i] for i in 1:length(proper_flats) if !(e in proper_flats[i])])"
   ]
  },
  {
   "cell_type": "code",
   "execution_count": 25,
   "id": "df3f2a77-860b-405b-872f-4dd5836c7c3a",
   "metadata": {},
   "outputs": [
    {
     "data": {
      "text/plain": [
       "-5*x_{Edge(3, 2),Edge(4, 2),Edge(4, 3)}^2"
      ]
     },
     "execution_count": 25,
     "metadata": {},
     "output_type": "execute_result"
    }
   ],
   "source": [
    "a*b"
   ]
  },
  {
   "cell_type": "markdown",
   "id": "87eae26f-7733-45cb-bed0-b0e090f12100",
   "metadata": {},
   "source": [
    "## Poincaré duality"
   ]
  },
  {
   "cell_type": "code",
   "execution_count": 26,
   "id": "c2dc46ce-8a06-4af4-acf0-56fb0d87548f",
   "metadata": {},
   "outputs": [],
   "source": [
    "k = 1\n",
    "\n",
    "R = base_ring(AA);\n",
    "g = grading_group(R)[1];\n",
    "PD1, mapPD1 = homogeneous_component(AA, k*g);\n",
    "basis_PD1 = [mapPD1(x) for x in gens(PD1)];\n",
    "PD2, mapPD2 = homogeneous_component(AA,(rank(M)-k-1)*g);\n",
    "basis_PD2 = [mapPD2(x) for x in gens(PD2)];"
   ]
  },
  {
   "cell_type": "code",
   "execution_count": 27,
   "id": "c692fabb-b305-4dae-93b3-e2a6de652423",
   "metadata": {},
   "outputs": [
    {
     "data": {
      "text/plain": [
       "[-1    0    0    0    0    0    0    1]\n",
       "[ 0   -1    0    0    0    0    0    0]\n",
       "[ 0    0   -1    0    0    0    0    1]\n",
       "[ 0    0    0   -1    0    0    0    0]\n",
       "[ 0    0    0    0   -1    0    0    1]\n",
       "[ 0    0    0    0    0   -1    0    0]\n",
       "[ 0    0    0    0    0    0   -1    0]\n",
       "[ 1    0    1    0    1    0    0   -2]"
      ]
     },
     "execution_count": 27,
     "metadata": {},
     "output_type": "execute_result"
    }
   ],
   "source": [
    "Mat1 = matrix(QQ,[[vol_map(b1*b2) for b1 in basis_PD1] for b2 in basis_PD2])"
   ]
  },
  {
   "cell_type": "code",
   "execution_count": 28,
   "id": "bdd833fd-c5c0-4f67-b4da-7f3a601beeb5",
   "metadata": {},
   "outputs": [
    {
     "data": {
      "text/plain": [
       "8"
      ]
     },
     "execution_count": 28,
     "metadata": {},
     "output_type": "execute_result"
    }
   ],
   "source": [
    "rank(Mat1)"
   ]
  },
  {
   "cell_type": "markdown",
   "id": "e1bf5b5d-bef2-4026-91c4-090861ec4a9c",
   "metadata": {},
   "source": [
    "## Hard Lefschetz property"
   ]
  },
  {
   "cell_type": "code",
   "execution_count": 29,
   "id": "01bdae9a-0d6c-4696-89c0-69fe2f5bdfc1",
   "metadata": {},
   "outputs": [],
   "source": [
    "Mat2 = matrix(QQ,[[vol_map(b1*b^(rank(M)-2k-1)*b2) for b1 in basis_PD1] for b2 in basis_PD1]);"
   ]
  },
  {
   "cell_type": "code",
   "execution_count": 30,
   "id": "bd0fceeb-2a87-4f5f-a209-de194f443893",
   "metadata": {},
   "outputs": [
    {
     "data": {
      "text/plain": [
       "true"
      ]
     },
     "execution_count": 30,
     "metadata": {},
     "output_type": "execute_result"
    }
   ],
   "source": [
    "Mat1 == Mat2"
   ]
  },
  {
   "cell_type": "markdown",
   "id": "16713bb9-e70e-4a3b-9780-b6bc767daeb6",
   "metadata": {},
   "source": [
    "## Hodge-Riemann relations"
   ]
  },
  {
   "cell_type": "code",
   "execution_count": 31,
   "id": "71ce72e3-6729-4aab-952f-cc10a787e25b",
   "metadata": {},
   "outputs": [
    {
     "data": {
      "text/plain": [
       "Ring homomorphism\n",
       "  from graded multivariate polynomial ring in 8 variables over QQ\n",
       "  to quotient of multivariate polynomial ring by ideal with 65 generators\n",
       "defined by\n",
       "  y_1 -> x_{Edge(3, 2),Edge(4, 2),Edge(4, 3)}\n",
       "  y_2 -> x_{Edge(3, 2),Edge(4, 1)}\n",
       "  y_3 -> x_{Edge(3, 1),Edge(4, 1),Edge(4, 3)}\n",
       "  y_4 -> x_{Edge(3, 1),Edge(4, 2)}\n",
       "  y_5 -> x_{Edge(2, 1),Edge(4, 3)}\n",
       "  y_6 -> x_{Edge(2, 1),Edge(4, 1),Edge(4, 2)}\n",
       "  y_7 -> x_{Edge(2, 1),Edge(3, 1),Edge(3, 2)}\n",
       "  y_8 -> x_{Edge(4, 3)}"
      ]
     },
     "execution_count": 31,
     "metadata": {},
     "output_type": "execute_result"
    }
   ],
   "source": [
    "RR, _ = graded_polynomial_ring(QQ, \"y_#\" => 1:length(basis_PD1));\n",
    "map = hom(RR, AA, basis_PD1)"
   ]
  },
  {
   "cell_type": "code",
   "execution_count": 32,
   "id": "ece0f970-acc9-453b-b1e0-e6f05be1def2",
   "metadata": {},
   "outputs": [],
   "source": [
    "K = kernel(hom(RR, AA, [b1^(rank(M)-2k)*b1 for b1 in basis_PD1]));"
   ]
  },
  {
   "cell_type": "code",
   "execution_count": 33,
   "id": "662c5200-69f9-4d46-9109-3d73da80e62d",
   "metadata": {},
   "outputs": [
    {
     "data": {
      "text/plain": [
       "7-element Vector{MPolyQuoRingElem{MPolyDecRingElem{QQFieldElem, QQMPolyRingElem}}}:\n",
       " -x_{Edge(4, 3)} + 2*x_{Edge(2, 1),Edge(3, 1),Edge(3, 2)}\n",
       " -x_{Edge(4, 3)} + 2*x_{Edge(2, 1),Edge(4, 1),Edge(4, 2)}\n",
       " -x_{Edge(4, 3)} + 2*x_{Edge(2, 1),Edge(4, 3)}\n",
       " -x_{Edge(4, 3)} + 2*x_{Edge(3, 1),Edge(4, 2)}\n",
       " -x_{Edge(4, 3)} + 2*x_{Edge(3, 1),Edge(4, 1),Edge(4, 3)}\n",
       " -x_{Edge(4, 3)} + 2*x_{Edge(3, 2),Edge(4, 1)}\n",
       " -x_{Edge(4, 3)} + 2*x_{Edge(3, 2),Edge(4, 2),Edge(4, 3)}"
      ]
     },
     "execution_count": 33,
     "metadata": {},
     "output_type": "execute_result"
    }
   ],
   "source": [
    "basis_HR = [map(h) for h in gens(K) if degree(h).coeff==k*g.coeff]"
   ]
  },
  {
   "cell_type": "code",
   "execution_count": 34,
   "id": "d0de7978-99b6-40e9-b7bb-95fb33bdf0d5",
   "metadata": {},
   "outputs": [
    {
     "data": {
      "text/plain": [
       "[6   2    4   2    4   2    4]\n",
       "[2   6    4   2    4   2    4]\n",
       "[4   4   10   4    6   4    6]\n",
       "[2   2    4   6    4   2    4]\n",
       "[4   4    6   4   10   4    6]\n",
       "[2   2    4   2    4   6    4]\n",
       "[4   4    6   4    6   4   10]"
      ]
     },
     "execution_count": 34,
     "metadata": {},
     "output_type": "execute_result"
    }
   ],
   "source": [
    "Mat3 = matrix(QQ,[[(-1)^k*vol_map(b1*b^(rank(M)-2k-1)*b2) for b1 in basis_HR] for b2 in basis_HR])"
   ]
  },
  {
   "cell_type": "code",
   "execution_count": 35,
   "id": "001916e5-7394-4fd7-b376-6e11456acb90",
   "metadata": {},
   "outputs": [
    {
     "data": {
      "text/plain": [
       "true"
      ]
     },
     "execution_count": 35,
     "metadata": {},
     "output_type": "execute_result"
    }
   ],
   "source": [
    "is_positive_definite(matrix(ZZ, [ZZ(i) for i in Mat3]))"
   ]
  },
  {
   "cell_type": "code",
   "execution_count": 36,
   "id": "51bd8b8c-29a0-47a9-8ef7-6b473c6a43cc",
   "metadata": {},
   "outputs": [
    {
     "data": {
      "text/plain": [
       "q^2 - 5*q + 6"
      ]
     },
     "execution_count": 36,
     "metadata": {},
     "output_type": "execute_result"
    }
   ],
   "source": [
    "reduced_characteristic_polynomial(M)"
   ]
  },
  {
   "cell_type": "code",
   "execution_count": 37,
   "id": "10682498-074e-433e-a895-240e77f704e0",
   "metadata": {},
   "outputs": [
    {
     "data": {
      "text/plain": [
       "3-element Vector{QQFieldElem}:\n",
       " 1\n",
       " 5\n",
       " 6"
      ]
     },
     "execution_count": 37,
     "metadata": {},
     "output_type": "execute_result"
    }
   ],
   "source": [
    "[ vol_map(a^(rank(M)-j-1)*b^j) for j in range(0,rank(M)-1) ]"
   ]
  },
  {
   "cell_type": "markdown",
   "id": "0750ec8d-723e-4b77-b30c-5384a7bebafc",
   "metadata": {},
   "source": [
    "## Epilogue"
   ]
  },
  {
   "cell_type": "markdown",
   "id": "2da3529d-2292-4923-a855-5a7e645d206d",
   "metadata": {},
   "source": [
    "Sometimes it is too tedious to maintain the full names of the elements of original ground set.  Here is a trick which maps those elements to $1,2,3,\\ldots$, keeping the original ordering."
   ]
  },
  {
   "cell_type": "code",
   "execution_count": 38,
   "id": "158e912b-35e8-4160-9a29-6d4db38e8bf2",
   "metadata": {},
   "outputs": [
    {
     "data": {
      "text/plain": [
       "6-element Vector{Vector{Int64}}:\n",
       " []\n",
       " [1, 2, 3]\n",
       " [1, 4, 5]\n",
       " [2, 4, 6]\n",
       " [3, 5, 6]\n",
       " [1, 2, 3, 4, 5, 6]"
      ]
     },
     "execution_count": 38,
     "metadata": {},
     "output_type": "execute_result"
    }
   ],
   "source": [
    "MM = Matroid(M.pm_matroid);\n",
    "cyclic_flats(MM)"
   ]
  },
  {
   "cell_type": "code",
   "execution_count": 39,
   "id": "7d44fccd-349c-417a-82e1-173f43d238fe",
   "metadata": {},
   "outputs": [
    {
     "data": {
      "text/plain": [
       "Quotient\n",
       "  of multivariate polynomial ring in 13 variables x_{1}, x_{2}, x_{3}, x_{4}, ..., x_{3,5,6}\n",
       "    over rational field\n",
       "  by ideal with 65 generators"
      ]
     },
     "execution_count": 39,
     "metadata": {},
     "output_type": "execute_result"
    }
   ],
   "source": [
    "chow_ring(MM)"
   ]
  }
 ],
 "metadata": {
  "kernelspec": {
   "display_name": "Julia 1.10.4",
   "language": "julia",
   "name": "julia-1.10"
  },
  "language_info": {
   "file_extension": ".jl",
   "mimetype": "application/julia",
   "name": "julia",
   "version": "1.10.4"
  }
 },
 "nbformat": 4,
 "nbformat_minor": 5
}
