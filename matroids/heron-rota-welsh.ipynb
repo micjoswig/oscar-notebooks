{
 "cells": [
  {
   "cell_type": "code",
   "execution_count": 1,
   "id": "77f3deb4",
   "metadata": {},
   "outputs": [
    {
     "name": "stdout",
     "output_type": "stream",
     "text": [
      "  ___   ____   ____    _    ____\n",
      " / _ \\ / ___| / ___|  / \\  |  _ \\   |  Combining ANTIC, GAP, Polymake, Singular\n",
      "| | | |\\___ \\| |     / _ \\ | |_) |  |  Type \"?Oscar\" for more information\n",
      "| |_| | ___) | |___ / ___ \\|  _ <   |  Manual: https://docs.oscar-system.org\n",
      " \\___/ |____/ \\____/_/   \\_\\_| \\_\\  |  Version 1.1.1\n"
     ]
    }
   ],
   "source": [
    "using Oscar"
   ]
  },
  {
   "cell_type": "markdown",
   "id": "e3c144e1",
   "metadata": {},
   "source": [
    "# Matroid Basics\n",
    "\n",
    "The following matroid is Example 10.6 in [Essentials of tropical combinatorics](https://bookstore.ams.org/gsm-219/)."
   ]
  },
  {
   "cell_type": "code",
   "execution_count": 2,
   "id": "d90bf98e",
   "metadata": {},
   "outputs": [
    {
     "data": {
      "text/plain": [
       "Matroid of rank 3 on 5 elements"
      ]
     },
     "execution_count": 2,
     "metadata": {},
     "output_type": "execute_result"
    }
   ],
   "source": [
    "M = matroid_from_bases([[1,2,3], [1,2,4], [1,2,5], [1,3,4], [1,4,5], [2,3,5], [2,4,5], [3,4,5]], 5)"
   ]
  },
  {
   "cell_type": "markdown",
   "id": "e47e3d08",
   "metadata": {},
   "source": [
    "A matroid is uniquely determined by its circuits ..."
   ]
  },
  {
   "cell_type": "code",
   "execution_count": 3,
   "id": "aa39db17",
   "metadata": {},
   "outputs": [
    {
     "data": {
      "text/plain": [
       "3-element Vector{Vector{Int64}}:\n",
       " [1, 3, 5]\n",
       " [2, 3, 4]\n",
       " [1, 2, 4, 5]"
      ]
     },
     "execution_count": 3,
     "metadata": {},
     "output_type": "execute_result"
    }
   ],
   "source": [
    "circuits(M)"
   ]
  },
  {
   "cell_type": "markdown",
   "id": "3e6e4375",
   "metadata": {},
   "source": [
    "... or its flats."
   ]
  },
  {
   "cell_type": "code",
   "execution_count": 4,
   "id": "3fc3e3d8",
   "metadata": {},
   "outputs": [
    {
     "data": {
      "text/plain": [
       "13-element Vector{Vector{Int64}}:\n",
       " []\n",
       " [1]\n",
       " [2]\n",
       " [3]\n",
       " [4]\n",
       " [5]\n",
       " [1, 2]\n",
       " [1, 4]\n",
       " [1, 3, 5]\n",
       " [2, 3, 4]\n",
       " [2, 5]\n",
       " [4, 5]\n",
       " [1, 2, 3, 4, 5]"
      ]
     },
     "execution_count": 4,
     "metadata": {},
     "output_type": "execute_result"
    }
   ],
   "source": [
    "flats(M)"
   ]
  },
  {
   "cell_type": "markdown",
   "id": "29c5922e",
   "metadata": {},
   "source": [
    "A proper flat is <i>cyclic</i> if it is the disjoint union of circuits.  Again, the cyclic flats are enough to define the matroid uniquely.  Often they form a particularly compact encoding."
   ]
  },
  {
   "cell_type": "code",
   "execution_count": 5,
   "id": "1e7327c5",
   "metadata": {},
   "outputs": [
    {
     "data": {
      "text/plain": [
       "4-element Vector{Vector{Int64}}:\n",
       " []\n",
       " [1, 3, 5]\n",
       " [2, 3, 4]\n",
       " [1, 2, 3, 4, 5]"
      ]
     },
     "execution_count": 5,
     "metadata": {},
     "output_type": "execute_result"
    }
   ],
   "source": [
    "cyclic_flats(M)"
   ]
  },
  {
   "cell_type": "markdown",
   "id": "1ad54d7c",
   "metadata": {},
   "source": [
    "The independent sets form an abstract simplicial complex."
   ]
  },
  {
   "cell_type": "code",
   "execution_count": 6,
   "id": "3555a1b5",
   "metadata": {},
   "outputs": [
    {
     "data": {
      "text/plain": [
       "Abstract simplicial complex of dimension 2 on 5 vertices"
      ]
     },
     "execution_count": 6,
     "metadata": {},
     "output_type": "execute_result"
    }
   ],
   "source": [
    "K = simplicial_complex(independent_sets(M))"
   ]
  },
  {
   "cell_type": "code",
   "execution_count": 7,
   "id": "d3fc99ec",
   "metadata": {},
   "outputs": [
    {
     "data": {
      "text/plain": [
       "3-element Vector{Int64}:\n",
       "  5\n",
       " 10\n",
       "  8"
      ]
     },
     "execution_count": 7,
     "metadata": {},
     "output_type": "execute_result"
    }
   ],
   "source": [
    "f_vector(K)"
   ]
  },
  {
   "cell_type": "code",
   "execution_count": 8,
   "id": "5950ce55",
   "metadata": {},
   "outputs": [
    {
     "data": {
      "text/plain": [
       "3-element Vector{FinGenAbGroup}:\n",
       " Z\n",
       " Z/1\n",
       " Z^2"
      ]
     },
     "execution_count": 8,
     "metadata": {},
     "output_type": "execute_result"
    }
   ],
   "source": [
    "[ homology(K, i) for i in 0:2 ]"
   ]
  },
  {
   "cell_type": "code",
   "execution_count": 9,
   "id": "2595eb1e",
   "metadata": {},
   "outputs": [
    {
     "data": {
      "text/plain": [
       "8-element SubObjectIterator{PointVector{QQFieldElem}}:\n",
       " [1, 1, 1, 0, 0]\n",
       " [1, 1, 0, 1, 0]\n",
       " [1, 1, 0, 0, 1]\n",
       " [1, 0, 1, 1, 0]\n",
       " [1, 0, 0, 1, 1]\n",
       " [0, 1, 1, 0, 1]\n",
       " [0, 1, 0, 1, 1]\n",
       " [0, 0, 1, 1, 1]"
      ]
     },
     "execution_count": 9,
     "metadata": {},
     "output_type": "execute_result"
    }
   ],
   "source": [
    "P = matroid_base_polytope(M);\n",
    "vertices(P)"
   ]
  },
  {
   "cell_type": "code",
   "execution_count": 10,
   "id": "96302419",
   "metadata": {},
   "outputs": [
    {
     "data": {
      "text/plain": [
       "true"
      ]
     },
     "execution_count": 10,
     "metadata": {},
     "output_type": "execute_result"
    }
   ],
   "source": [
    "dim(P) == length(matroid_groundset(M)) - length(connected_components(M))"
   ]
  },
  {
   "cell_type": "markdown",
   "id": "ef0f5c52",
   "metadata": {},
   "source": [
    "# Chow Rings\n",
    "\n",
    "The discussion below follows the chapter \"Matroids\" by Corey, Kühne & Schröter in [The Computer Algebra System OSCAR, Springer (2024)](https://link.springer.com/book/9783031621260)."
   ]
  },
  {
   "cell_type": "markdown",
   "id": "1ec1b13e",
   "metadata": {},
   "source": [
    "## Characteristic polynomials"
   ]
  },
  {
   "cell_type": "code",
   "execution_count": 11,
   "id": "97668241",
   "metadata": {},
   "outputs": [
    {
     "data": {
      "text/plain": [
       "Matroid of rank 3 on 6 elements"
      ]
     },
     "execution_count": 11,
     "metadata": {},
     "output_type": "execute_result"
    }
   ],
   "source": [
    "M = cycle_matroid(complete_graph(4))"
   ]
  },
  {
   "cell_type": "code",
   "execution_count": 12,
   "id": "1b371101",
   "metadata": {},
   "outputs": [
    {
     "data": {
      "text/plain": [
       "x^3 + 3*x^2 + 4*x*y + 2*x + y^3 + 3*y^2 + 2*y"
      ]
     },
     "execution_count": 12,
     "metadata": {},
     "output_type": "execute_result"
    }
   ],
   "source": [
    "tutte_polynomial(M)"
   ]
  },
  {
   "cell_type": "code",
   "execution_count": 13,
   "id": "265f89c3",
   "metadata": {},
   "outputs": [
    {
     "data": {
      "text/plain": [
       "q^3 - 6*q^2 + 11*q - 6"
      ]
     },
     "execution_count": 13,
     "metadata": {},
     "output_type": "execute_result"
    }
   ],
   "source": [
    "char_poly = characteristic_polynomial(M)"
   ]
  },
  {
   "cell_type": "code",
   "execution_count": 14,
   "id": "fed49968",
   "metadata": {},
   "outputs": [
    {
     "data": {
      "text/plain": [
       "1 * (q - 2) * (q - 1) * (q - 3)"
      ]
     },
     "execution_count": 14,
     "metadata": {},
     "output_type": "execute_result"
    }
   ],
   "source": [
    "factor(char_poly)"
   ]
  },
  {
   "cell_type": "markdown",
   "id": "245a3ddc",
   "metadata": {},
   "source": [
    "The absolute values of the coefficients ..."
   ]
  },
  {
   "cell_type": "code",
   "execution_count": 15,
   "id": "0edb1273",
   "metadata": {},
   "outputs": [
    {
     "data": {
      "text/plain": [
       "4-element Vector{ZZRingElem}:\n",
       " 6\n",
       " 11\n",
       " 6\n",
       " 1"
      ]
     },
     "execution_count": 15,
     "metadata": {},
     "output_type": "execute_result"
    }
   ],
   "source": [
    "w = abs.(collect(coefficients(char_poly)))"
   ]
  },
  {
   "cell_type": "markdown",
   "id": "538870ae",
   "metadata": {},
   "source": [
    "... satisfy log-concavity."
   ]
  },
  {
   "cell_type": "code",
   "execution_count": 16,
   "id": "4170ff39",
   "metadata": {},
   "outputs": [
    {
     "data": {
      "text/plain": [
       "true"
      ]
     },
     "execution_count": 16,
     "metadata": {},
     "output_type": "execute_result"
    }
   ],
   "source": [
    "w[1]*w[3] <= w[2]^2 && w[2]*w[4] <= w[3]^2"
   ]
  },
  {
   "cell_type": "code",
   "execution_count": 17,
   "id": "20fc0f94",
   "metadata": {},
   "outputs": [
    {
     "data": {
      "text/plain": [
       "15-element Vector{Vector{Edge}}:\n",
       " []\n",
       " [Edge(2, 1)]\n",
       " [Edge(3, 1)]\n",
       " [Edge(3, 2)]\n",
       " [Edge(4, 1)]\n",
       " [Edge(4, 2)]\n",
       " [Edge(4, 3)]\n",
       " [Edge(2, 1), Edge(3, 1), Edge(3, 2)]\n",
       " [Edge(2, 1), Edge(4, 1), Edge(4, 2)]\n",
       " [Edge(2, 1), Edge(4, 3)]\n",
       " [Edge(3, 1), Edge(4, 2)]\n",
       " [Edge(3, 1), Edge(4, 1), Edge(4, 3)]\n",
       " [Edge(3, 2), Edge(4, 1)]\n",
       " [Edge(3, 2), Edge(4, 2), Edge(4, 3)]\n",
       " [Edge(2, 1), Edge(3, 1), Edge(3, 2), Edge(4, 1), Edge(4, 2), Edge(4, 3)]"
      ]
     },
     "execution_count": 17,
     "metadata": {},
     "output_type": "execute_result"
    }
   ],
   "source": [
    "flats(M)"
   ]
  },
  {
   "cell_type": "markdown",
   "id": "ceb287a5",
   "metadata": {},
   "source": [
    "## Definition of the Chow ring"
   ]
  },
  {
   "cell_type": "code",
   "execution_count": 18,
   "id": "ba534e4f",
   "metadata": {},
   "outputs": [
    {
     "data": {
      "text/plain": [
       "Quotient\n",
       "  of multivariate polynomial ring in 13 variables x_{Edge(2, 1)}, x_{Edge(3, 1)}, x_{Edge(3, 2)}, x_{Edge(4, 1)}, ..., x_{Edge(3, 2),Edge(4, 2),Edge(4, 3)}\n",
       "    over rational field\n",
       "  by ideal with 65 generators"
      ]
     },
     "execution_count": 18,
     "metadata": {},
     "output_type": "execute_result"
    }
   ],
   "source": [
    "A = chow_ring(M)"
   ]
  },
  {
   "cell_type": "code",
   "execution_count": 19,
   "id": "e78ebf92",
   "metadata": {},
   "outputs": [
    {
     "data": {
      "text/plain": [
       "13-element Vector{MPolyQuoRingElem{QQMPolyRingElem}}:\n",
       " x_{Edge(2, 1)}\n",
       " x_{Edge(3, 1)}\n",
       " x_{Edge(3, 2)}\n",
       " x_{Edge(4, 1)}\n",
       " x_{Edge(4, 2)}\n",
       " x_{Edge(4, 3)}\n",
       " x_{Edge(2, 1),Edge(3, 1),Edge(3, 2)}\n",
       " x_{Edge(2, 1),Edge(4, 1),Edge(4, 2)}\n",
       " x_{Edge(2, 1),Edge(4, 3)}\n",
       " x_{Edge(3, 1),Edge(4, 2)}\n",
       " x_{Edge(3, 1),Edge(4, 1),Edge(4, 3)}\n",
       " x_{Edge(3, 2),Edge(4, 1)}\n",
       " x_{Edge(3, 2),Edge(4, 2),Edge(4, 3)}"
      ]
     },
     "execution_count": 19,
     "metadata": {},
     "output_type": "execute_result"
    }
   ],
   "source": [
    "gens(A)"
   ]
  },
  {
   "cell_type": "code",
   "execution_count": 20,
   "id": "bc4c2d2b",
   "metadata": {},
   "outputs": [
    {
     "data": {
      "text/plain": [
       "Ideal generated by\n",
       "  x_{Edge(2, 1)} - x_{Edge(3, 1)} + x_{Edge(2, 1),Edge(4, 1),Edge(4, 2)} + x_{Edge(2, 1),Edge(4, 3)} - x_{Edge(3, 1),Edge(4, 2)} - x_{Edge(3, 1),Edge(4, 1),Edge(4, 3)}\n",
       "  x_{Edge(2, 1)} - x_{Edge(3, 2)} + x_{Edge(2, 1),Edge(4, 1),Edge(4, 2)} + x_{Edge(2, 1),Edge(4, 3)} - x_{Edge(3, 2),Edge(4, 1)} - x_{Edge(3, 2),Edge(4, 2),Edge(4, 3)}\n",
       "  x_{Edge(2, 1)} - x_{Edge(4, 1)} + x_{Edge(2, 1),Edge(3, 1),Edge(3, 2)} + x_{Edge(2, 1),Edge(4, 3)} - x_{Edge(3, 1),Edge(4, 1),Edge(4, 3)} - x_{Edge(3, 2),Edge(4, 1)}\n",
       "  x_{Edge(2, 1)} - x_{Edge(4, 2)} + x_{Edge(2, 1),Edge(3, 1),Edge(3, 2)} + x_{Edge(2, 1),Edge(4, 3)} - x_{Edge(3, 1),Edge(4, 2)} - x_{Edge(3, 2),Edge(4, 2),Edge(4, 3)}\n",
       "  x_{Edge(2, 1)} - x_{Edge(4, 3)} + x_{Edge(2, 1),Edge(3, 1),Edge(3, 2)} + x_{Edge(2, 1),Edge(4, 1),Edge(4, 2)} - x_{Edge(3, 1),Edge(4, 1),Edge(4, 3)} - x_{Edge(3, 2),Edge(4, 2),Edge(4, 3)}\n",
       "  x_{Edge(2, 1)}*x_{Edge(3, 1)}\n",
       "  x_{Edge(2, 1)}*x_{Edge(3, 2)}\n",
       "  x_{Edge(3, 1)}*x_{Edge(3, 2)}\n",
       "  x_{Edge(2, 1)}*x_{Edge(4, 1)}\n",
       "  x_{Edge(3, 1)}*x_{Edge(4, 1)}\n",
       "  x_{Edge(3, 2)}*x_{Edge(4, 1)}\n",
       "  x_{Edge(2, 1)}*x_{Edge(4, 2)}\n",
       "  x_{Edge(3, 1)}*x_{Edge(4, 2)}\n",
       "  x_{Edge(3, 2)}*x_{Edge(4, 2)}\n",
       "  x_{Edge(4, 1)}*x_{Edge(4, 2)}\n",
       "  x_{Edge(2, 1)}*x_{Edge(4, 3)}\n",
       "  x_{Edge(3, 1)}*x_{Edge(4, 3)}\n",
       "  x_{Edge(3, 2)}*x_{Edge(4, 3)}\n",
       "  x_{Edge(4, 1)}*x_{Edge(4, 3)}\n",
       "  x_{Edge(4, 2)}*x_{Edge(4, 3)}\n",
       "  x_{Edge(4, 1)}*x_{Edge(2, 1),Edge(3, 1),Edge(3, 2)}\n",
       "  x_{Edge(4, 2)}*x_{Edge(2, 1),Edge(3, 1),Edge(3, 2)}\n",
       "  x_{Edge(4, 3)}*x_{Edge(2, 1),Edge(3, 1),Edge(3, 2)}\n",
       "  x_{Edge(3, 1)}*x_{Edge(2, 1),Edge(4, 1),Edge(4, 2)}\n",
       "  x_{Edge(3, 2)}*x_{Edge(2, 1),Edge(4, 1),Edge(4, 2)}\n",
       "  x_{Edge(4, 3)}*x_{Edge(2, 1),Edge(4, 1),Edge(4, 2)}\n",
       "  x_{Edge(2, 1),Edge(3, 1),Edge(3, 2)}*x_{Edge(2, 1),Edge(4, 1),Edge(4, 2)}\n",
       "  x_{Edge(3, 1)}*x_{Edge(2, 1),Edge(4, 3)}\n",
       "  x_{Edge(3, 2)}*x_{Edge(2, 1),Edge(4, 3)}\n",
       "  x_{Edge(4, 1)}*x_{Edge(2, 1),Edge(4, 3)}\n",
       "  x_{Edge(4, 2)}*x_{Edge(2, 1),Edge(4, 3)}\n",
       "  x_{Edge(2, 1),Edge(3, 1),Edge(3, 2)}*x_{Edge(2, 1),Edge(4, 3)}\n",
       "  x_{Edge(2, 1),Edge(4, 1),Edge(4, 2)}*x_{Edge(2, 1),Edge(4, 3)}\n",
       "  x_{Edge(2, 1)}*x_{Edge(3, 1),Edge(4, 2)}\n",
       "  x_{Edge(3, 2)}*x_{Edge(3, 1),Edge(4, 2)}\n",
       "  x_{Edge(4, 1)}*x_{Edge(3, 1),Edge(4, 2)}\n",
       "  x_{Edge(4, 3)}*x_{Edge(3, 1),Edge(4, 2)}\n",
       "  x_{Edge(2, 1),Edge(3, 1),Edge(3, 2)}*x_{Edge(3, 1),Edge(4, 2)}\n",
       "  x_{Edge(2, 1),Edge(4, 1),Edge(4, 2)}*x_{Edge(3, 1),Edge(4, 2)}\n",
       "  x_{Edge(2, 1),Edge(4, 3)}*x_{Edge(3, 1),Edge(4, 2)}\n",
       "  x_{Edge(2, 1)}*x_{Edge(3, 1),Edge(4, 1),Edge(4, 3)}\n",
       "  x_{Edge(3, 2)}*x_{Edge(3, 1),Edge(4, 1),Edge(4, 3)}\n",
       "  x_{Edge(4, 2)}*x_{Edge(3, 1),Edge(4, 1),Edge(4, 3)}\n",
       "  x_{Edge(2, 1),Edge(3, 1),Edge(3, 2)}*x_{Edge(3, 1),Edge(4, 1),Edge(4, 3)}\n",
       "  x_{Edge(2, 1),Edge(4, 1),Edge(4, 2)}*x_{Edge(3, 1),Edge(4, 1),Edge(4, 3)}\n",
       "  x_{Edge(2, 1),Edge(4, 3)}*x_{Edge(3, 1),Edge(4, 1),Edge(4, 3)}\n",
       "  x_{Edge(3, 1),Edge(4, 2)}*x_{Edge(3, 1),Edge(4, 1),Edge(4, 3)}\n",
       "  x_{Edge(2, 1)}*x_{Edge(3, 2),Edge(4, 1)}\n",
       "  x_{Edge(3, 1)}*x_{Edge(3, 2),Edge(4, 1)}\n",
       "  x_{Edge(4, 2)}*x_{Edge(3, 2),Edge(4, 1)}\n",
       "  x_{Edge(4, 3)}*x_{Edge(3, 2),Edge(4, 1)}\n",
       "  x_{Edge(2, 1),Edge(3, 1),Edge(3, 2)}*x_{Edge(3, 2),Edge(4, 1)}\n",
       "  x_{Edge(2, 1),Edge(4, 1),Edge(4, 2)}*x_{Edge(3, 2),Edge(4, 1)}\n",
       "  x_{Edge(2, 1),Edge(4, 3)}*x_{Edge(3, 2),Edge(4, 1)}\n",
       "  x_{Edge(3, 1),Edge(4, 2)}*x_{Edge(3, 2),Edge(4, 1)}\n",
       "  x_{Edge(3, 1),Edge(4, 1),Edge(4, 3)}*x_{Edge(3, 2),Edge(4, 1)}\n",
       "  x_{Edge(2, 1)}*x_{Edge(3, 2),Edge(4, 2),Edge(4, 3)}\n",
       "  x_{Edge(3, 1)}*x_{Edge(3, 2),Edge(4, 2),Edge(4, 3)}\n",
       "  x_{Edge(4, 1)}*x_{Edge(3, 2),Edge(4, 2),Edge(4, 3)}\n",
       "  x_{Edge(2, 1),Edge(3, 1),Edge(3, 2)}*x_{Edge(3, 2),Edge(4, 2),Edge(4, 3)}\n",
       "  x_{Edge(2, 1),Edge(4, 1),Edge(4, 2)}*x_{Edge(3, 2),Edge(4, 2),Edge(4, 3)}\n",
       "  x_{Edge(2, 1),Edge(4, 3)}*x_{Edge(3, 2),Edge(4, 2),Edge(4, 3)}\n",
       "  x_{Edge(3, 1),Edge(4, 2)}*x_{Edge(3, 2),Edge(4, 2),Edge(4, 3)}\n",
       "  x_{Edge(3, 1),Edge(4, 1),Edge(4, 3)}*x_{Edge(3, 2),Edge(4, 2),Edge(4, 3)}\n",
       "  x_{Edge(3, 2),Edge(4, 1)}*x_{Edge(3, 2),Edge(4, 2),Edge(4, 3)}"
      ]
     },
     "execution_count": 20,
     "metadata": {},
     "output_type": "execute_result"
    }
   ],
   "source": [
    "modulus(A)"
   ]
  },
  {
   "cell_type": "code",
   "execution_count": 21,
   "id": "cb713d7f",
   "metadata": {},
   "outputs": [],
   "source": [
    "GR, _ = graded_polynomial_ring(QQ, symbols(base_ring(A)));\n",
    "AA = chow_ring(M, ring=GR);"
   ]
  },
  {
   "cell_type": "code",
   "execution_count": 22,
   "id": "d6cd860d",
   "metadata": {},
   "outputs": [
    {
     "data": {
      "text/plain": [
       "#3982 (generic function with 1 method)"
      ]
     },
     "execution_count": 22,
     "metadata": {},
     "output_type": "execute_result"
    }
   ],
   "source": [
    "vol_map = volume_map(M, AA)"
   ]
  },
  {
   "cell_type": "code",
   "execution_count": 23,
   "id": "5469cd59",
   "metadata": {},
   "outputs": [
    {
     "data": {
      "text/plain": [
       "Edge(2, 1)"
      ]
     },
     "execution_count": 23,
     "metadata": {},
     "output_type": "execute_result"
    }
   ],
   "source": [
    "e = matroid_groundset(M)[1]"
   ]
  },
  {
   "cell_type": "code",
   "execution_count": 24,
   "id": "ec678407",
   "metadata": {},
   "outputs": [
    {
     "data": {
      "text/plain": [
       "13-element Vector{Vector{Edge}}:\n",
       " [Edge(2, 1)]\n",
       " [Edge(3, 1)]\n",
       " [Edge(3, 2)]\n",
       " [Edge(4, 1)]\n",
       " [Edge(4, 2)]\n",
       " [Edge(4, 3)]\n",
       " [Edge(2, 1), Edge(3, 1), Edge(3, 2)]\n",
       " [Edge(2, 1), Edge(4, 1), Edge(4, 2)]\n",
       " [Edge(2, 1), Edge(4, 3)]\n",
       " [Edge(3, 1), Edge(4, 2)]\n",
       " [Edge(3, 1), Edge(4, 1), Edge(4, 3)]\n",
       " [Edge(3, 2), Edge(4, 1)]\n",
       " [Edge(3, 2), Edge(4, 2), Edge(4, 3)]"
      ]
     },
     "execution_count": 24,
     "metadata": {},
     "output_type": "execute_result"
    }
   ],
   "source": [
    "proper_flats = flats(M)[2:length(flats(M))-1]"
   ]
  },
  {
   "cell_type": "code",
   "execution_count": 25,
   "id": "923d1bcd",
   "metadata": {},
   "outputs": [
    {
     "data": {
      "text/plain": [
       "x_{Edge(2, 1)} + x_{Edge(2, 1),Edge(3, 1),Edge(3, 2)} + x_{Edge(2, 1),Edge(4, 1),Edge(4, 2)} + x_{Edge(2, 1),Edge(4, 3)}"
      ]
     },
     "execution_count": 25,
     "metadata": {},
     "output_type": "execute_result"
    }
   ],
   "source": [
    "a = sum([AA[i] for i in 1:length(proper_flats) if e in proper_flats[i]])"
   ]
  },
  {
   "cell_type": "code",
   "execution_count": 26,
   "id": "a1050ba5",
   "metadata": {},
   "outputs": [
    {
     "data": {
      "text/plain": [
       "x_{Edge(3, 1)} + x_{Edge(3, 2)} + x_{Edge(4, 1)} + x_{Edge(4, 2)} + x_{Edge(4, 3)} + x_{Edge(3, 1),Edge(4, 2)} + x_{Edge(3, 1),Edge(4, 1),Edge(4, 3)} + x_{Edge(3, 2),Edge(4, 1)} + x_{Edge(3, 2),Edge(4, 2),Edge(4, 3)}"
      ]
     },
     "execution_count": 26,
     "metadata": {},
     "output_type": "execute_result"
    }
   ],
   "source": [
    "b = sum([AA[i] for i in 1:length(proper_flats) if !(e in proper_flats[i])])"
   ]
  },
  {
   "cell_type": "code",
   "execution_count": 27,
   "id": "514af50c",
   "metadata": {},
   "outputs": [
    {
     "data": {
      "text/plain": [
       "-5*x_{Edge(3, 2),Edge(4, 2),Edge(4, 3)}^2"
      ]
     },
     "execution_count": 27,
     "metadata": {},
     "output_type": "execute_result"
    }
   ],
   "source": [
    "a*b"
   ]
  },
  {
   "cell_type": "markdown",
   "id": "49702854",
   "metadata": {},
   "source": [
    "## Poincaré duality"
   ]
  },
  {
   "cell_type": "code",
   "execution_count": 28,
   "id": "ff65124f",
   "metadata": {},
   "outputs": [],
   "source": [
    "k = 1\n",
    "\n",
    "R = base_ring(AA);\n",
    "g = grading_group(R)[1];\n",
    "PD1, mapPD1 = homogeneous_component(AA, k*g);\n",
    "basis_PD1 = [mapPD1(x) for x in gens(PD1)];\n",
    "PD2, mapPD2 = homogeneous_component(AA,(rank(M)-k-1)*g);\n",
    "basis_PD2 = [mapPD2(x) for x in gens(PD2)];"
   ]
  },
  {
   "cell_type": "code",
   "execution_count": 29,
   "id": "4a6a5ac6",
   "metadata": {},
   "outputs": [
    {
     "data": {
      "text/plain": [
       "[-1    0    0    0    0    0    0    1]\n",
       "[ 0   -1    0    0    0    0    0    0]\n",
       "[ 0    0   -1    0    0    0    0    1]\n",
       "[ 0    0    0   -1    0    0    0    0]\n",
       "[ 0    0    0    0   -1    0    0    1]\n",
       "[ 0    0    0    0    0   -1    0    0]\n",
       "[ 0    0    0    0    0    0   -1    0]\n",
       "[ 1    0    1    0    1    0    0   -2]"
      ]
     },
     "execution_count": 29,
     "metadata": {},
     "output_type": "execute_result"
    }
   ],
   "source": [
    "Mat1 = matrix(QQ,[[vol_map(b1*b2) for b1 in basis_PD1] for b2 in basis_PD2])"
   ]
  },
  {
   "cell_type": "code",
   "execution_count": 30,
   "id": "610ae057",
   "metadata": {},
   "outputs": [
    {
     "data": {
      "text/plain": [
       "8"
      ]
     },
     "execution_count": 30,
     "metadata": {},
     "output_type": "execute_result"
    }
   ],
   "source": [
    "rank(Mat1)"
   ]
  },
  {
   "cell_type": "markdown",
   "id": "94a5ff00",
   "metadata": {},
   "source": [
    "## Hard Lefschetz property"
   ]
  },
  {
   "cell_type": "code",
   "execution_count": 31,
   "id": "c1b746fc",
   "metadata": {},
   "outputs": [],
   "source": [
    "Mat2 = matrix(QQ,[[vol_map(b1*b^(rank(M)-2k-1)*b2) for b1 in basis_PD1] for b2 in basis_PD1]);"
   ]
  },
  {
   "cell_type": "code",
   "execution_count": 32,
   "id": "01d10809",
   "metadata": {},
   "outputs": [
    {
     "data": {
      "text/plain": [
       "true"
      ]
     },
     "execution_count": 32,
     "metadata": {},
     "output_type": "execute_result"
    }
   ],
   "source": [
    "Mat1 == Mat2"
   ]
  },
  {
   "cell_type": "markdown",
   "id": "a43053f8",
   "metadata": {},
   "source": [
    "## Hodge-Riemann relations"
   ]
  },
  {
   "cell_type": "code",
   "execution_count": 33,
   "id": "0dcd2f6c",
   "metadata": {},
   "outputs": [
    {
     "data": {
      "text/plain": [
       "Ring homomorphism\n",
       "  from graded multivariate polynomial ring in 8 variables over QQ\n",
       "  to quotient of multivariate polynomial ring by ideal with 65 generators\n",
       "defined by\n",
       "  y_1 -> x_{Edge(3, 2),Edge(4, 2),Edge(4, 3)}\n",
       "  y_2 -> x_{Edge(3, 2),Edge(4, 1)}\n",
       "  y_3 -> x_{Edge(3, 1),Edge(4, 1),Edge(4, 3)}\n",
       "  y_4 -> x_{Edge(3, 1),Edge(4, 2)}\n",
       "  y_5 -> x_{Edge(2, 1),Edge(4, 3)}\n",
       "  y_6 -> x_{Edge(2, 1),Edge(4, 1),Edge(4, 2)}\n",
       "  y_7 -> x_{Edge(2, 1),Edge(3, 1),Edge(3, 2)}\n",
       "  y_8 -> x_{Edge(4, 3)}"
      ]
     },
     "execution_count": 33,
     "metadata": {},
     "output_type": "execute_result"
    }
   ],
   "source": [
    "RR, _ = graded_polynomial_ring(QQ, \"y_#\" => 1:length(basis_PD1));\n",
    "map = hom(RR, AA, basis_PD1)"
   ]
  },
  {
   "cell_type": "code",
   "execution_count": 34,
   "id": "f31f7077",
   "metadata": {},
   "outputs": [],
   "source": [
    "K = kernel(hom(RR, AA, [b^(rank(M)-2k)*b1 for b1 in basis_PD1]));"
   ]
  },
  {
   "cell_type": "code",
   "execution_count": 35,
   "id": "ad0282e5",
   "metadata": {},
   "outputs": [
    {
     "data": {
      "text/plain": [
       "7-element Vector{MPolyQuoRingElem{MPolyDecRingElem{QQFieldElem, QQMPolyRingElem}}}:\n",
       " x_{Edge(4, 3)}\n",
       " -x_{Edge(2, 1),Edge(3, 1),Edge(3, 2)} + x_{Edge(2, 1),Edge(4, 1),Edge(4, 2)}\n",
       " -x_{Edge(2, 1),Edge(3, 1),Edge(3, 2)} + 2*x_{Edge(2, 1),Edge(4, 3)}\n",
       " -x_{Edge(2, 1),Edge(3, 1),Edge(3, 2)} + 2*x_{Edge(3, 1),Edge(4, 2)}\n",
       " -x_{Edge(2, 1),Edge(3, 1),Edge(3, 2)} + x_{Edge(3, 1),Edge(4, 1),Edge(4, 3)}\n",
       " -x_{Edge(2, 1),Edge(3, 1),Edge(3, 2)} + 2*x_{Edge(3, 2),Edge(4, 1)}\n",
       " -x_{Edge(2, 1),Edge(3, 1),Edge(3, 2)} + x_{Edge(3, 2),Edge(4, 2),Edge(4, 3)}"
      ]
     },
     "execution_count": 35,
     "metadata": {},
     "output_type": "execute_result"
    }
   ],
   "source": [
    "basis_HR = [map(h) for h in gens(K) if degree(h).coeff==k*g.coeff]"
   ]
  },
  {
   "cell_type": "code",
   "execution_count": 36,
   "id": "094b6e55",
   "metadata": {},
   "outputs": [
    {
     "data": {
      "text/plain": [
       "[ 2   0   -2   0   -1   0   -1]\n",
       "[ 0   2    1   1    1   1    1]\n",
       "[-2   1    5   1    1   1    1]\n",
       "[ 0   1    1   5    1   1    1]\n",
       "[-1   1    1   1    2   1    1]\n",
       "[ 0   1    1   1    1   5    1]\n",
       "[-1   1    1   1    1   1    2]"
      ]
     },
     "execution_count": 36,
     "metadata": {},
     "output_type": "execute_result"
    }
   ],
   "source": [
    "Mat3 = matrix(QQ,[[(-1)^k*vol_map(b1*b^(rank(M)-2k-1)*b2) for b1 in basis_HR] for b2 in basis_HR])"
   ]
  },
  {
   "cell_type": "code",
   "execution_count": 37,
   "id": "214faa06",
   "metadata": {},
   "outputs": [
    {
     "data": {
      "text/plain": [
       "true"
      ]
     },
     "execution_count": 37,
     "metadata": {},
     "output_type": "execute_result"
    }
   ],
   "source": [
    "is_positive_definite(matrix(ZZ, [ZZ(i) for i in Mat3]))"
   ]
  },
  {
   "cell_type": "code",
   "execution_count": 38,
   "id": "64eec828",
   "metadata": {},
   "outputs": [
    {
     "data": {
      "text/plain": [
       "q^2 - 5*q + 6"
      ]
     },
     "execution_count": 38,
     "metadata": {},
     "output_type": "execute_result"
    }
   ],
   "source": [
    "reduced_characteristic_polynomial(M)"
   ]
  },
  {
   "cell_type": "code",
   "execution_count": 39,
   "id": "11ea21d3",
   "metadata": {},
   "outputs": [
    {
     "data": {
      "text/plain": [
       "3-element Vector{QQFieldElem}:\n",
       " 1\n",
       " 5\n",
       " 6"
      ]
     },
     "execution_count": 39,
     "metadata": {},
     "output_type": "execute_result"
    }
   ],
   "source": [
    "[ vol_map(a^(rank(M)-j-1)*b^j) for j in range(0,rank(M)-1) ]"
   ]
  },
  {
   "cell_type": "markdown",
   "id": "8ddc9935",
   "metadata": {},
   "source": [
    "## Epilogue"
   ]
  },
  {
   "cell_type": "markdown",
   "id": "1f410796",
   "metadata": {},
   "source": [
    "Sometimes it is too tedious to maintain the full names of the elements of original ground set.  Here is a trick which maps those elements to $1,2,3,\\ldots$, keeping the original ordering."
   ]
  },
  {
   "cell_type": "code",
   "execution_count": 40,
   "id": "27c7799a",
   "metadata": {},
   "outputs": [
    {
     "data": {
      "text/plain": [
       "6-element Vector{Vector{Int64}}:\n",
       " []\n",
       " [1, 2, 3]\n",
       " [1, 4, 5]\n",
       " [2, 4, 6]\n",
       " [3, 5, 6]\n",
       " [1, 2, 3, 4, 5, 6]"
      ]
     },
     "execution_count": 40,
     "metadata": {},
     "output_type": "execute_result"
    }
   ],
   "source": [
    "MM = Matroid(M.pm_matroid);\n",
    "cyclic_flats(MM)"
   ]
  },
  {
   "cell_type": "code",
   "execution_count": 41,
   "id": "37fd19e0",
   "metadata": {},
   "outputs": [
    {
     "data": {
      "text/plain": [
       "Quotient\n",
       "  of multivariate polynomial ring in 13 variables x_{1}, x_{2}, x_{3}, x_{4}, ..., x_{3,5,6}\n",
       "    over rational field\n",
       "  by ideal with 65 generators"
      ]
     },
     "execution_count": 41,
     "metadata": {},
     "output_type": "execute_result"
    }
   ],
   "source": [
    "AAA = chow_ring(MM)"
   ]
  },
  {
   "cell_type": "code",
   "execution_count": 42,
   "id": "6f02c0e2-5b99-47c8-8e9d-41fb4029dd91",
   "metadata": {},
   "outputs": [
    {
     "data": {
      "text/plain": [
       "Ideal generated by\n",
       "  x_{1} - x_{2} + x_{1,4,5} + x_{1,6} - x_{2,5} - x_{2,4,6}\n",
       "  x_{1} - x_{3} + x_{1,4,5} + x_{1,6} - x_{3,4} - x_{3,5,6}\n",
       "  x_{1} - x_{4} + x_{1,2,3} + x_{1,6} - x_{2,4,6} - x_{3,4}\n",
       "  x_{1} - x_{5} + x_{1,2,3} + x_{1,6} - x_{2,5} - x_{3,5,6}\n",
       "  x_{1} - x_{6} + x_{1,2,3} + x_{1,4,5} - x_{2,4,6} - x_{3,5,6}\n",
       "  x_{1}*x_{2}\n",
       "  x_{1}*x_{3}\n",
       "  x_{2}*x_{3}\n",
       "  x_{1}*x_{4}\n",
       "  x_{2}*x_{4}\n",
       "  x_{3}*x_{4}\n",
       "  x_{1}*x_{5}\n",
       "  x_{2}*x_{5}\n",
       "  x_{3}*x_{5}\n",
       "  x_{4}*x_{5}\n",
       "  x_{1}*x_{6}\n",
       "  x_{2}*x_{6}\n",
       "  x_{3}*x_{6}\n",
       "  x_{4}*x_{6}\n",
       "  x_{5}*x_{6}\n",
       "  x_{4}*x_{1,2,3}\n",
       "  x_{5}*x_{1,2,3}\n",
       "  x_{6}*x_{1,2,3}\n",
       "  x_{2}*x_{1,4,5}\n",
       "  x_{3}*x_{1,4,5}\n",
       "  x_{6}*x_{1,4,5}\n",
       "  x_{1,2,3}*x_{1,4,5}\n",
       "  x_{2}*x_{1,6}\n",
       "  x_{3}*x_{1,6}\n",
       "  x_{4}*x_{1,6}\n",
       "  x_{5}*x_{1,6}\n",
       "  x_{1,2,3}*x_{1,6}\n",
       "  x_{1,4,5}*x_{1,6}\n",
       "  x_{1}*x_{2,5}\n",
       "  x_{3}*x_{2,5}\n",
       "  x_{4}*x_{2,5}\n",
       "  x_{6}*x_{2,5}\n",
       "  x_{1,2,3}*x_{2,5}\n",
       "  x_{1,4,5}*x_{2,5}\n",
       "  x_{1,6}*x_{2,5}\n",
       "  x_{1}*x_{2,4,6}\n",
       "  x_{3}*x_{2,4,6}\n",
       "  x_{5}*x_{2,4,6}\n",
       "  x_{1,2,3}*x_{2,4,6}\n",
       "  x_{1,4,5}*x_{2,4,6}\n",
       "  x_{1,6}*x_{2,4,6}\n",
       "  x_{2,5}*x_{2,4,6}\n",
       "  x_{1}*x_{3,4}\n",
       "  x_{2}*x_{3,4}\n",
       "  x_{5}*x_{3,4}\n",
       "  x_{6}*x_{3,4}\n",
       "  x_{1,2,3}*x_{3,4}\n",
       "  x_{1,4,5}*x_{3,4}\n",
       "  x_{1,6}*x_{3,4}\n",
       "  x_{2,5}*x_{3,4}\n",
       "  x_{2,4,6}*x_{3,4}\n",
       "  x_{1}*x_{3,5,6}\n",
       "  x_{2}*x_{3,5,6}\n",
       "  x_{4}*x_{3,5,6}\n",
       "  x_{1,2,3}*x_{3,5,6}\n",
       "  x_{1,4,5}*x_{3,5,6}\n",
       "  x_{1,6}*x_{3,5,6}\n",
       "  x_{2,5}*x_{3,5,6}\n",
       "  x_{2,4,6}*x_{3,5,6}\n",
       "  x_{3,4}*x_{3,5,6}"
      ]
     },
     "execution_count": 42,
     "metadata": {},
     "output_type": "execute_result"
    }
   ],
   "source": [
    "modulus(AAA)"
   ]
  }
 ],
 "metadata": {
  "kernelspec": {
   "display_name": "Julia 1.10.4",
   "language": "julia",
   "name": "julia-1.10"
  },
  "language_info": {
   "file_extension": ".jl",
   "mimetype": "application/julia",
   "name": "julia",
   "version": "1.10.4"
  }
 },
 "nbformat": 4,
 "nbformat_minor": 5
}
