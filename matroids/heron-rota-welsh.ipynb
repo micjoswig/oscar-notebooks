{
 "cells": [
  {
   "cell_type": "code",
   "execution_count": 1,
   "metadata": {},
   "outputs": [
    {
     "name": "stdout",
     "output_type": "stream",
     "text": [
      "  ___   ____   ____    _    ____\n",
      " / _ \\ / ___| / ___|  / \\  |  _ \\   |  Combining ANTIC, GAP, Polymake, Singular\n",
      "| | | |\\___ \\| |     / _ \\ | |_) |  |  Type \"?Oscar\" for more information\n",
      "| |_| | ___) | |___ / ___ \\|  _ <   |  Manual: https://docs.oscar-system.org\n",
      " \\___/ |____/ \\____/_/   \\_\\_| \\_\\  |  Version 1.1.0\n"
     ]
    }
   ],
   "source": [
    "using Oscar"
   ]
  },
  {
   "cell_type": "markdown",
   "metadata": {},
   "source": [
    "# Matroid Basics\n",
    "\n",
    "The following matroid is Example 10.6 in [Essentials of tropical combinatorics](https://bookstore.ams.org/gsm-219/)."
   ]
  },
  {
   "cell_type": "code",
   "execution_count": 2,
   "metadata": {},
   "outputs": [
    {
     "data": {
      "text/plain": [
       "Matroid of rank 3 on 5 elements"
      ]
     },
     "execution_count": 2,
     "metadata": {},
     "output_type": "execute_result"
    }
   ],
   "source": [
    "M = matroid_from_bases([[1,2,3], [1,2,4], [1,2,5], [1,3,4], [1,4,5], [2,3,5], [2,4,5], [3,4,5]], 5)"
   ]
  },
  {
   "cell_type": "markdown",
   "metadata": {},
   "source": [
    "A matroid is uniquely determined by its circuits ..."
   ]
  },
  {
   "cell_type": "code",
   "execution_count": 3,
   "metadata": {},
   "outputs": [
    {
     "data": {
      "text/plain": [
       "3-element Vector{Vector{Int64}}:\n",
       " [1, 3, 5]\n",
       " [2, 3, 4]\n",
       " [1, 2, 4, 5]"
      ]
     },
     "execution_count": 3,
     "metadata": {},
     "output_type": "execute_result"
    }
   ],
   "source": [
    "circuits(M)"
   ]
  },
  {
   "cell_type": "markdown",
   "metadata": {},
   "source": [
    "... or its flats."
   ]
  },
  {
   "cell_type": "code",
   "execution_count": 4,
   "metadata": {},
   "outputs": [
    {
     "data": {
      "text/plain": [
       "13-element Vector{Vector{Int64}}:\n",
       " []\n",
       " [1]\n",
       " [2]\n",
       " [3]\n",
       " [4]\n",
       " [5]\n",
       " [1, 2]\n",
       " [1, 4]\n",
       " [1, 3, 5]\n",
       " [2, 3, 4]\n",
       " [2, 5]\n",
       " [4, 5]\n",
       " [1, 2, 3, 4, 5]"
      ]
     },
     "execution_count": 4,
     "metadata": {},
     "output_type": "execute_result"
    }
   ],
   "source": [
    "flats(M)"
   ]
  },
  {
   "cell_type": "markdown",
   "metadata": {},
   "source": [
    "A proper flat is <i>cyclic</i> if it is the disjoint union of circuits.  Again, the cyclic flats are enough to define the matroid uniquely.  Often they form a particularly compact encoding."
   ]
  },
  {
   "cell_type": "code",
   "execution_count": 5,
   "metadata": {},
   "outputs": [
    {
     "data": {
      "text/plain": [
       "4-element Vector{Vector{Int64}}:\n",
       " []\n",
       " [1, 3, 5]\n",
       " [2, 3, 4]\n",
       " [1, 2, 3, 4, 5]"
      ]
     },
     "execution_count": 5,
     "metadata": {},
     "output_type": "execute_result"
    }
   ],
   "source": [
    "cyclic_flats(M)"
   ]
  },
  {
   "cell_type": "markdown",
   "metadata": {},
   "source": [
    "The independent sets form an abstract simplicial complex."
   ]
  },
  {
   "cell_type": "code",
   "execution_count": 6,
   "metadata": {},
   "outputs": [
    {
     "data": {
      "text/plain": [
       "Abstract simplicial complex of dimension 2 on 5 vertices"
      ]
     },
     "execution_count": 6,
     "metadata": {},
     "output_type": "execute_result"
    }
   ],
   "source": [
    "K = simplicial_complex(independent_sets(M))"
   ]
  },
  {
   "cell_type": "code",
   "execution_count": 7,
   "metadata": {},
   "outputs": [
    {
     "data": {
      "text/plain": [
       "3-element Vector{Int64}:\n",
       "  5\n",
       " 10\n",
       "  8"
      ]
     },
     "execution_count": 7,
     "metadata": {},
     "output_type": "execute_result"
    }
   ],
   "source": [
    "f_vector(K)"
   ]
  },
  {
   "cell_type": "code",
   "execution_count": 8,
   "metadata": {},
   "outputs": [
    {
     "data": {
      "text/plain": [
       "3-element Vector{FinGenAbGroup}:\n",
       " Z\n",
       " Z/1\n",
       " Z^2"
      ]
     },
     "execution_count": 8,
     "metadata": {},
     "output_type": "execute_result"
    }
   ],
   "source": [
    "[ homology(K, i) for i in 0:2 ]"
   ]
  },
  {
   "cell_type": "code",
   "execution_count": 9,
   "metadata": {},
   "outputs": [
    {
     "data": {
      "text/plain": [
       "8-element SubObjectIterator{PointVector{QQFieldElem}}:\n",
       " [1, 1, 1, 0, 0]\n",
       " [1, 1, 0, 1, 0]\n",
       " [1, 1, 0, 0, 1]\n",
       " [1, 0, 1, 1, 0]\n",
       " [1, 0, 0, 1, 1]\n",
       " [0, 1, 1, 0, 1]\n",
       " [0, 1, 0, 1, 1]\n",
       " [0, 0, 1, 1, 1]"
      ]
     },
     "execution_count": 9,
     "metadata": {},
     "output_type": "execute_result"
    }
   ],
   "source": [
    "P = matroid_base_polytope(M);\n",
    "vertices(P)"
   ]
  },
  {
   "cell_type": "code",
   "execution_count": 10,
   "metadata": {},
   "outputs": [
    {
     "data": {
      "text/plain": [
       "true"
      ]
     },
     "execution_count": 10,
     "metadata": {},
     "output_type": "execute_result"
    }
   ],
   "source": [
    "dim(P) == length(matroid_groundset(M)) - length(connected_components(M))"
   ]
  },
  {
   "cell_type": "markdown",
   "metadata": {},
   "source": [
    "# Chow Rings\n",
    "\n",
    "The discussion below follows the chapter \"Matroids\" by Corey, Kühne & Schröter in [The Computer Algebra System OSCAR, Springer (2024)](https://link.springer.com/book/9783031621260)."
   ]
  },
  {
   "cell_type": "markdown",
   "metadata": {},
   "source": [
    "## Characteristic polynomials"
   ]
  },
  {
   "cell_type": "code",
   "execution_count": 11,
   "metadata": {},
   "outputs": [
    {
     "data": {
      "text/plain": [
       "Matroid of rank 3 on 6 elements"
      ]
     },
     "execution_count": 11,
     "metadata": {},
     "output_type": "execute_result"
    }
   ],
   "source": [
    "M = cycle_matroid(complete_graph(4))"
   ]
  },
  {
   "cell_type": "code",
   "execution_count": 12,
   "metadata": {},
   "outputs": [
    {
     "data": {
      "text/plain": [
       "x^3 + 3*x^2 + 4*x*y + 2*x + y^3 + 3*y^2 + 2*y"
      ]
     },
     "execution_count": 12,
     "metadata": {},
     "output_type": "execute_result"
    }
   ],
   "source": [
    "tutte_polynomial(M)"
   ]
  },
  {
   "cell_type": "code",
   "execution_count": 13,
   "metadata": {},
   "outputs": [
    {
     "data": {
      "text/plain": [
       "q^3 - 6*q^2 + 11*q - 6"
      ]
     },
     "execution_count": 13,
     "metadata": {},
     "output_type": "execute_result"
    }
   ],
   "source": [
    "char_poly = characteristic_polynomial(M)"
   ]
  },
  {
   "cell_type": "code",
   "execution_count": 14,
   "metadata": {},
   "outputs": [
    {
     "data": {
      "text/plain": [
       "1 * (q - 2) * (q - 1) * (q - 3)"
      ]
     },
     "execution_count": 14,
     "metadata": {},
     "output_type": "execute_result"
    }
   ],
   "source": [
    "factor(char_poly)"
   ]
  },
  {
   "cell_type": "markdown",
   "metadata": {},
   "source": [
    "The absolute values of the coefficients ..."
   ]
  },
  {
   "cell_type": "code",
   "execution_count": 15,
   "metadata": {},
   "outputs": [
    {
     "data": {
      "text/plain": [
       "4-element Vector{ZZRingElem}:\n",
       " 6\n",
       " 11\n",
       " 6\n",
       " 1"
      ]
     },
     "execution_count": 15,
     "metadata": {},
     "output_type": "execute_result"
    }
   ],
   "source": [
    "w = abs.(collect(coefficients(char_poly)))"
   ]
  },
  {
   "cell_type": "markdown",
   "metadata": {},
   "source": [
    "... satisfy log-concavity."
   ]
  },
  {
   "cell_type": "code",
   "execution_count": 16,
   "metadata": {},
   "outputs": [
    {
     "data": {
      "text/plain": [
       "true"
      ]
     },
     "execution_count": 16,
     "metadata": {},
     "output_type": "execute_result"
    }
   ],
   "source": [
    "w[1]*w[3] <= w[2]^2 && w[2]*w[4] <= w[3]^2"
   ]
  },
  {
   "cell_type": "code",
   "execution_count": 17,
   "metadata": {},
   "outputs": [
    {
     "data": {
      "text/plain": [
       "15-element Vector{Vector{Edge}}:\n",
       " []\n",
       " [Edge(2, 1)]\n",
       " [Edge(3, 1)]\n",
       " [Edge(3, 2)]\n",
       " [Edge(4, 1)]\n",
       " [Edge(4, 2)]\n",
       " [Edge(4, 3)]\n",
       " [Edge(2, 1), Edge(3, 1), Edge(3, 2)]\n",
       " [Edge(2, 1), Edge(4, 1), Edge(4, 2)]\n",
       " [Edge(2, 1), Edge(4, 3)]\n",
       " [Edge(3, 1), Edge(4, 2)]\n",
       " [Edge(3, 1), Edge(4, 1), Edge(4, 3)]\n",
       " [Edge(3, 2), Edge(4, 1)]\n",
       " [Edge(3, 2), Edge(4, 2), Edge(4, 3)]\n",
       " [Edge(2, 1), Edge(3, 1), Edge(3, 2), Edge(4, 1), Edge(4, 2), Edge(4, 3)]"
      ]
     },
     "execution_count": 17,
     "metadata": {},
     "output_type": "execute_result"
    }
   ],
   "source": [
    "flats(M)"
   ]
  },
  {
   "cell_type": "markdown",
   "metadata": {},
   "source": [
    "## Definition of the Chow ring"
   ]
  },
  {
   "cell_type": "code",
   "execution_count": 18,
   "metadata": {},
   "outputs": [
    {
     "data": {
      "text/plain": [
       "Quotient\n",
       "  of multivariate polynomial ring in 13 variables x_{Edge(2, 1)}, x_{Edge(3, 1)}, x_{Edge(3, 2)}, x_{Edge(4, 1)}, ..., x_{Edge(3, 2),Edge(4, 2),Edge(4, 3)}\n",
       "    over rational field\n",
       "  by ideal with 65 generators"
      ]
     },
     "execution_count": 18,
     "metadata": {},
     "output_type": "execute_result"
    }
   ],
   "source": [
    "A = chow_ring(M)"
   ]
  },
  {
   "cell_type": "code",
   "execution_count": 19,
   "metadata": {},
   "outputs": [
    {
     "data": {
      "text/plain": [
       "13-element Vector{MPolyQuoRingElem{QQMPolyRingElem}}:\n",
       " x_{Edge(2, 1)}\n",
       " x_{Edge(3, 1)}\n",
       " x_{Edge(3, 2)}\n",
       " x_{Edge(4, 1)}\n",
       " x_{Edge(4, 2)}\n",
       " x_{Edge(4, 3)}\n",
       " x_{Edge(2, 1),Edge(3, 1),Edge(3, 2)}\n",
       " x_{Edge(2, 1),Edge(4, 1),Edge(4, 2)}\n",
       " x_{Edge(2, 1),Edge(4, 3)}\n",
       " x_{Edge(3, 1),Edge(4, 2)}\n",
       " x_{Edge(3, 1),Edge(4, 1),Edge(4, 3)}\n",
       " x_{Edge(3, 2),Edge(4, 1)}\n",
       " x_{Edge(3, 2),Edge(4, 2),Edge(4, 3)}"
      ]
     },
     "execution_count": 19,
     "metadata": {},
     "output_type": "execute_result"
    }
   ],
   "source": [
    "gens(A)"
   ]
  },
  {
   "cell_type": "code",
   "execution_count": 20,
   "metadata": {},
   "outputs": [
    {
     "data": {
      "text/plain": [
       "Ideal generated by\n",
       "  x_{Edge(2, 1)} - x_{Edge(3, 1)} + x_{Edge(2, 1),Edge(4, 1),Edge(4, 2)} + x_{Edge(2, 1),Edge(4, 3)} - x_{Edge(3, 1),Edge(4, 2)} - x_{Edge(3, 1),Edge(4, 1),Edge(4, 3)}\n",
       "  x_{Edge(2, 1)} - x_{Edge(3, 2)} + x_{Edge(2, 1),Edge(4, 1),Edge(4, 2)} + x_{Edge(2, 1),Edge(4, 3)} - x_{Edge(3, 2),Edge(4, 1)} - x_{Edge(3, 2),Edge(4, 2),Edge(4, 3)}\n",
       "  x_{Edge(2, 1)} - x_{Edge(4, 1)} + x_{Edge(2, 1),Edge(3, 1),Edge(3, 2)} + x_{Edge(2, 1),Edge(4, 3)} - x_{Edge(3, 1),Edge(4, 1),Edge(4, 3)} - x_{Edge(3, 2),Edge(4, 1)}\n",
       "  x_{Edge(2, 1)} - x_{Edge(4, 2)} + x_{Edge(2, 1),Edge(3, 1),Edge(3, 2)} + x_{Edge(2, 1),Edge(4, 3)} - x_{Edge(3, 1),Edge(4, 2)} - x_{Edge(3, 2),Edge(4, 2),Edge(4, 3)}\n",
       "  x_{Edge(2, 1)} - x_{Edge(4, 3)} + x_{Edge(2, 1),Edge(3, 1),Edge(3, 2)} + x_{Edge(2, 1),Edge(4, 1),Edge(4, 2)} - x_{Edge(3, 1),Edge(4, 1),Edge(4, 3)} - x_{Edge(3, 2),Edge(4, 2),Edge(4, 3)}\n",
       "  x_{Edge(2, 1)}*x_{Edge(3, 1)}\n",
       "  x_{Edge(2, 1)}*x_{Edge(3, 2)}\n",
       "  x_{Edge(3, 1)}*x_{Edge(3, 2)}\n",
       "  x_{Edge(2, 1)}*x_{Edge(4, 1)}\n",
       "  x_{Edge(3, 1)}*x_{Edge(4, 1)}\n",
       "  x_{Edge(3, 2)}*x_{Edge(4, 1)}\n",
       "  x_{Edge(2, 1)}*x_{Edge(4, 2)}\n",
       "  x_{Edge(3, 1)}*x_{Edge(4, 2)}\n",
       "  x_{Edge(3, 2)}*x_{Edge(4, 2)}\n",
       "  x_{Edge(4, 1)}*x_{Edge(4, 2)}\n",
       "  x_{Edge(2, 1)}*x_{Edge(4, 3)}\n",
       "  x_{Edge(3, 1)}*x_{Edge(4, 3)}\n",
       "  x_{Edge(3, 2)}*x_{Edge(4, 3)}\n",
       "  x_{Edge(4, 1)}*x_{Edge(4, 3)}\n",
       "  x_{Edge(4, 2)}*x_{Edge(4, 3)}\n",
       "  x_{Edge(4, 1)}*x_{Edge(2, 1),Edge(3, 1),Edge(3, 2)}\n",
       "  x_{Edge(4, 2)}*x_{Edge(2, 1),Edge(3, 1),Edge(3, 2)}\n",
       "  x_{Edge(4, 3)}*x_{Edge(2, 1),Edge(3, 1),Edge(3, 2)}\n",
       "  x_{Edge(3, 1)}*x_{Edge(2, 1),Edge(4, 1),Edge(4, 2)}\n",
       "  x_{Edge(3, 2)}*x_{Edge(2, 1),Edge(4, 1),Edge(4, 2)}\n",
       "  x_{Edge(4, 3)}*x_{Edge(2, 1),Edge(4, 1),Edge(4, 2)}\n",
       "  x_{Edge(2, 1),Edge(3, 1),Edge(3, 2)}*x_{Edge(2, 1),Edge(4, 1),Edge(4, 2)}\n",
       "  x_{Edge(3, 1)}*x_{Edge(2, 1),Edge(4, 3)}\n",
       "  x_{Edge(3, 2)}*x_{Edge(2, 1),Edge(4, 3)}\n",
       "  x_{Edge(4, 1)}*x_{Edge(2, 1),Edge(4, 3)}\n",
       "  x_{Edge(4, 2)}*x_{Edge(2, 1),Edge(4, 3)}\n",
       "  x_{Edge(2, 1),Edge(3, 1),Edge(3, 2)}*x_{Edge(2, 1),Edge(4, 3)}\n",
       "  x_{Edge(2, 1),Edge(4, 1),Edge(4, 2)}*x_{Edge(2, 1),Edge(4, 3)}\n",
       "  x_{Edge(2, 1)}*x_{Edge(3, 1),Edge(4, 2)}\n",
       "  x_{Edge(3, 2)}*x_{Edge(3, 1),Edge(4, 2)}\n",
       "  x_{Edge(4, 1)}*x_{Edge(3, 1),Edge(4, 2)}\n",
       "  x_{Edge(4, 3)}*x_{Edge(3, 1),Edge(4, 2)}\n",
       "  x_{Edge(2, 1),Edge(3, 1),Edge(3, 2)}*x_{Edge(3, 1),Edge(4, 2)}\n",
       "  x_{Edge(2, 1),Edge(4, 1),Edge(4, 2)}*x_{Edge(3, 1),Edge(4, 2)}\n",
       "  x_{Edge(2, 1),Edge(4, 3)}*x_{Edge(3, 1),Edge(4, 2)}\n",
       "  x_{Edge(2, 1)}*x_{Edge(3, 1),Edge(4, 1),Edge(4, 3)}\n",
       "  x_{Edge(3, 2)}*x_{Edge(3, 1),Edge(4, 1),Edge(4, 3)}\n",
       "  x_{Edge(4, 2)}*x_{Edge(3, 1),Edge(4, 1),Edge(4, 3)}\n",
       "  x_{Edge(2, 1),Edge(3, 1),Edge(3, 2)}*x_{Edge(3, 1),Edge(4, 1),Edge(4, 3)}\n",
       "  x_{Edge(2, 1),Edge(4, 1),Edge(4, 2)}*x_{Edge(3, 1),Edge(4, 1),Edge(4, 3)}\n",
       "  x_{Edge(2, 1),Edge(4, 3)}*x_{Edge(3, 1),Edge(4, 1),Edge(4, 3)}\n",
       "  x_{Edge(3, 1),Edge(4, 2)}*x_{Edge(3, 1),Edge(4, 1),Edge(4, 3)}\n",
       "  x_{Edge(2, 1)}*x_{Edge(3, 2),Edge(4, 1)}\n",
       "  x_{Edge(3, 1)}*x_{Edge(3, 2),Edge(4, 1)}\n",
       "  x_{Edge(4, 2)}*x_{Edge(3, 2),Edge(4, 1)}\n",
       "  x_{Edge(4, 3)}*x_{Edge(3, 2),Edge(4, 1)}\n",
       "  x_{Edge(2, 1),Edge(3, 1),Edge(3, 2)}*x_{Edge(3, 2),Edge(4, 1)}\n",
       "  x_{Edge(2, 1),Edge(4, 1),Edge(4, 2)}*x_{Edge(3, 2),Edge(4, 1)}\n",
       "  x_{Edge(2, 1),Edge(4, 3)}*x_{Edge(3, 2),Edge(4, 1)}\n",
       "  x_{Edge(3, 1),Edge(4, 2)}*x_{Edge(3, 2),Edge(4, 1)}\n",
       "  x_{Edge(3, 1),Edge(4, 1),Edge(4, 3)}*x_{Edge(3, 2),Edge(4, 1)}\n",
       "  x_{Edge(2, 1)}*x_{Edge(3, 2),Edge(4, 2),Edge(4, 3)}\n",
       "  x_{Edge(3, 1)}*x_{Edge(3, 2),Edge(4, 2),Edge(4, 3)}\n",
       "  x_{Edge(4, 1)}*x_{Edge(3, 2),Edge(4, 2),Edge(4, 3)}\n",
       "  x_{Edge(2, 1),Edge(3, 1),Edge(3, 2)}*x_{Edge(3, 2),Edge(4, 2),Edge(4, 3)}\n",
       "  x_{Edge(2, 1),Edge(4, 1),Edge(4, 2)}*x_{Edge(3, 2),Edge(4, 2),Edge(4, 3)}\n",
       "  x_{Edge(2, 1),Edge(4, 3)}*x_{Edge(3, 2),Edge(4, 2),Edge(4, 3)}\n",
       "  x_{Edge(3, 1),Edge(4, 2)}*x_{Edge(3, 2),Edge(4, 2),Edge(4, 3)}\n",
       "  x_{Edge(3, 1),Edge(4, 1),Edge(4, 3)}*x_{Edge(3, 2),Edge(4, 2),Edge(4, 3)}\n",
       "  x_{Edge(3, 2),Edge(4, 1)}*x_{Edge(3, 2),Edge(4, 2),Edge(4, 3)}"
      ]
     },
     "execution_count": 20,
     "metadata": {},
     "output_type": "execute_result"
    }
   ],
   "source": [
    "modulus(A)"
   ]
  },
  {
   "cell_type": "code",
   "execution_count": 21,
   "metadata": {},
   "outputs": [],
   "source": [
    "GR, _ = graded_polynomial_ring(QQ, symbols(base_ring(A)));\n",
    "AA = chow_ring(M, ring=GR);"
   ]
  },
  {
   "cell_type": "code",
   "execution_count": null,
   "metadata": {},
   "outputs": [],
   "source": [
    "vol_map = volume_map(M, AA)"
   ]
  },
  {
   "cell_type": "code",
   "execution_count": null,
   "metadata": {},
   "outputs": [],
   "source": [
    "e = matroid_groundset(M)[1];"
   ]
  },
  {
   "cell_type": "code",
   "execution_count": null,
   "metadata": {},
   "outputs": [],
   "source": [
    "proper_flats = flats(M)[2:length(flats(M))-1];"
   ]
  },
  {
   "cell_type": "code",
   "execution_count": null,
   "metadata": {},
   "outputs": [],
   "source": [
    "a = sum([AA[i] for i in 1:length(proper_flats) if e in proper_flats[i]])"
   ]
  },
  {
   "cell_type": "code",
   "execution_count": null,
   "metadata": {},
   "outputs": [],
   "source": [
    "b = sum([AA[i] for i in 1:length(proper_flats) if !(e in proper_flats[i])])"
   ]
  },
  {
   "cell_type": "code",
   "execution_count": null,
   "metadata": {},
   "outputs": [],
   "source": [
    "a*b"
   ]
  },
  {
   "cell_type": "markdown",
   "metadata": {},
   "source": [
    "## Poincaré duality"
   ]
  },
  {
   "cell_type": "code",
   "execution_count": null,
   "metadata": {},
   "outputs": [],
   "source": [
    "k = 1\n",
    "\n",
    "R = base_ring(AA);\n",
    "g = grading_group(R)[1];\n",
    "PD1, mapPD1 = homogeneous_component(AA, k*g);\n",
    "basis_PD1 = [mapPD1(x) for x in gens(PD1)];\n",
    "PD2, mapPD2 = homogeneous_component(AA,(rank(M)-k-1)*g);\n",
    "basis_PD2 = [mapPD2(x) for x in gens(PD2)];"
   ]
  },
  {
   "cell_type": "code",
   "execution_count": null,
   "metadata": {},
   "outputs": [],
   "source": [
    "Mat1 = matrix(QQ,[[vol_map(b1*b2) for b1 in basis_PD1] for b2 in basis_PD2])"
   ]
  },
  {
   "cell_type": "code",
   "execution_count": null,
   "metadata": {},
   "outputs": [],
   "source": [
    "rank(Mat1)"
   ]
  },
  {
   "cell_type": "markdown",
   "metadata": {},
   "source": [
    "## Hard Lefschetz property"
   ]
  },
  {
   "cell_type": "code",
   "execution_count": null,
   "metadata": {},
   "outputs": [],
   "source": [
    "Mat2 = matrix(QQ,[[vol_map(b1*b^(rank(M)-2k-1)*b2) for b1 in basis_PD1] for b2 in basis_PD1]);"
   ]
  },
  {
   "cell_type": "code",
   "execution_count": null,
   "metadata": {},
   "outputs": [],
   "source": [
    "Mat1 == Mat2"
   ]
  },
  {
   "cell_type": "markdown",
   "metadata": {},
   "source": [
    "## Hodge-Riemann relations"
   ]
  },
  {
   "cell_type": "code",
   "execution_count": null,
   "metadata": {},
   "outputs": [],
   "source": [
    "RR, _ = graded_polynomial_ring(QQ, \"y_#\" => 1:length(basis_PD1));\n",
    "map = hom(RR, AA, basis_PD1)"
   ]
  },
  {
   "cell_type": "code",
   "execution_count": null,
   "metadata": {},
   "outputs": [],
   "source": [
    "K = kernel(hom(RR, AA, [b1^(rank(M)-2k)*b1 for b1 in basis_PD1]));"
   ]
  },
  {
   "cell_type": "code",
   "execution_count": null,
   "metadata": {},
   "outputs": [],
   "source": [
    "basis_HR = [map(h) for h in gens(K) if degree(h).coeff==k*g.coeff]"
   ]
  },
  {
   "cell_type": "code",
   "execution_count": null,
   "metadata": {},
   "outputs": [],
   "source": [
    "Mat3 = matrix(QQ,[[(-1)^k*vol_map(b1*b^(rank(M)-2k-1)*b2) for b1 in basis_HR] for b2 in basis_HR])"
   ]
  },
  {
   "cell_type": "code",
   "execution_count": null,
   "metadata": {},
   "outputs": [],
   "source": [
    "is_positive_definite(matrix(ZZ, [ZZ(i) for i in Mat3]))"
   ]
  },
  {
   "cell_type": "code",
   "execution_count": null,
   "metadata": {},
   "outputs": [],
   "source": [
    "reduced_characteristic_polynomial(M)"
   ]
  },
  {
   "cell_type": "code",
   "execution_count": null,
   "metadata": {},
   "outputs": [],
   "source": [
    "[ vol_map(a^(rank(M)-j-1)*b^j) for j in range(0,rank(M)-1) ]"
   ]
  },
  {
   "cell_type": "markdown",
   "metadata": {},
   "source": [
    "## Epilogue"
   ]
  },
  {
   "cell_type": "markdown",
   "metadata": {},
   "source": [
    "Sometimes it is too tedious to maintain the full names of the elements of original ground set.  Here is a trick which maps those elements to $1,2,3,\\ldots$, keeping the original ordering."
   ]
  },
  {
   "cell_type": "code",
   "execution_count": null,
   "metadata": {},
   "outputs": [],
   "source": [
    "MM = Matroid(M.pm_matroid);\n",
    "cyclic_flats(MM)"
   ]
  },
  {
   "cell_type": "code",
   "execution_count": null,
   "metadata": {},
   "outputs": [],
   "source": [
    "chow_ring(MM)"
   ]
  }
 ],
 "metadata": {
  "kernelspec": {
   "display_name": "Julia 1.10.4",
   "language": "julia",
   "name": "julia-1.10"
  },
  "language_info": {
   "file_extension": ".jl",
   "mimetype": "application/julia",
   "name": "julia",
   "version": "1.10.4"
  }
 },
 "nbformat": 4,
 "nbformat_minor": 5
}
